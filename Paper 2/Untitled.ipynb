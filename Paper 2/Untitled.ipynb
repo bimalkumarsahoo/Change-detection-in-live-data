{
 "cells": [
  {
   "cell_type": "code",
   "execution_count": null,
   "metadata": {},
   "outputs": [],
   "source": [
    "import numpy as np\n",
    "import pandas as pd\n",
    "import matplotlib.pyplot as plt\n",
    "import seaborn as sns\n",
    "from sklearn.cluster import KMeans\n",
    "from scipy.stats import chi2\n",
    "from sklearn import datasets\n",
    "from sklearn.metrics import confusion_matrix"
   ]
  },
  {
   "cell_type": "code",
   "execution_count": null,
   "metadata": {},
   "outputs": [],
   "source": []
  },
  {
   "cell_type": "code",
   "execution_count": null,
   "metadata": {},
   "outputs": [],
   "source": []
  },
  {
   "cell_type": "code",
   "execution_count": null,
   "metadata": {},
   "outputs": [],
   "source": []
  },
  {
   "cell_type": "code",
   "execution_count": null,
   "metadata": {},
   "outputs": [],
   "source": []
  },
  {
   "cell_type": "code",
   "execution_count": 127,
   "metadata": {},
   "outputs": [],
   "source": [
    "iris = datasets.load_iris()"
   ]
  },
  {
   "cell_type": "code",
   "execution_count": 128,
   "metadata": {},
   "outputs": [
    {
     "data": {
      "text/html": [
       "<div>\n",
       "<style scoped>\n",
       "    .dataframe tbody tr th:only-of-type {\n",
       "        vertical-align: middle;\n",
       "    }\n",
       "\n",
       "    .dataframe tbody tr th {\n",
       "        vertical-align: top;\n",
       "    }\n",
       "\n",
       "    .dataframe thead th {\n",
       "        text-align: right;\n",
       "    }\n",
       "</style>\n",
       "<table border=\"1\" class=\"dataframe\">\n",
       "  <thead>\n",
       "    <tr style=\"text-align: right;\">\n",
       "      <th></th>\n",
       "      <th>col_1</th>\n",
       "      <th>col_2</th>\n",
       "      <th>col_3</th>\n",
       "      <th>col_4</th>\n",
       "    </tr>\n",
       "  </thead>\n",
       "  <tbody>\n",
       "    <tr>\n",
       "      <th>0</th>\n",
       "      <td>5.1</td>\n",
       "      <td>3.5</td>\n",
       "      <td>1.4</td>\n",
       "      <td>0.2</td>\n",
       "    </tr>\n",
       "    <tr>\n",
       "      <th>1</th>\n",
       "      <td>4.9</td>\n",
       "      <td>3.0</td>\n",
       "      <td>1.4</td>\n",
       "      <td>0.2</td>\n",
       "    </tr>\n",
       "    <tr>\n",
       "      <th>2</th>\n",
       "      <td>4.7</td>\n",
       "      <td>3.2</td>\n",
       "      <td>1.3</td>\n",
       "      <td>0.2</td>\n",
       "    </tr>\n",
       "    <tr>\n",
       "      <th>3</th>\n",
       "      <td>4.6</td>\n",
       "      <td>3.1</td>\n",
       "      <td>1.5</td>\n",
       "      <td>0.2</td>\n",
       "    </tr>\n",
       "    <tr>\n",
       "      <th>4</th>\n",
       "      <td>5.0</td>\n",
       "      <td>3.6</td>\n",
       "      <td>1.4</td>\n",
       "      <td>0.2</td>\n",
       "    </tr>\n",
       "  </tbody>\n",
       "</table>\n",
       "</div>"
      ],
      "text/plain": [
       "   col_1  col_2  col_3  col_4\n",
       "0    5.1    3.5    1.4    0.2\n",
       "1    4.9    3.0    1.4    0.2\n",
       "2    4.7    3.2    1.3    0.2\n",
       "3    4.6    3.1    1.5    0.2\n",
       "4    5.0    3.6    1.4    0.2"
      ]
     },
     "execution_count": 128,
     "metadata": {},
     "output_type": "execute_result"
    }
   ],
   "source": [
    "df = pd.DataFrame(iris.data)\n",
    "df.columns = ['col_1', 'col_2', 'col_3', 'col_4']\n",
    "df.head()"
   ]
  },
  {
   "cell_type": "code",
   "execution_count": 4,
   "metadata": {},
   "outputs": [
    {
     "data": {
      "text/plain": [
       "(150, 4)"
      ]
     },
     "execution_count": 4,
     "metadata": {},
     "output_type": "execute_result"
    }
   ],
   "source": [
    "df.shape"
   ]
  },
  {
   "cell_type": "markdown",
   "metadata": {},
   "source": [
    "## For no Change"
   ]
  },
  {
   "cell_type": "markdown",
   "metadata": {},
   "source": [
    "#### Creating W1 and W2 disjoint sets"
   ]
  },
  {
   "cell_type": "code",
   "execution_count": 5,
   "metadata": {},
   "outputs": [],
   "source": [
    "W1 = df.sample(50)"
   ]
  },
  {
   "cell_type": "code",
   "execution_count": 6,
   "metadata": {},
   "outputs": [],
   "source": [
    "W2 = df.drop(W1.index , axis = 0).sample(50)"
   ]
  },
  {
   "cell_type": "code",
   "execution_count": 7,
   "metadata": {},
   "outputs": [],
   "source": [
    "W1.reset_index(drop = True, inplace = True)\n",
    "W2.reset_index(drop = True, inplace = True)"
   ]
  },
  {
   "cell_type": "code",
   "execution_count": 8,
   "metadata": {},
   "outputs": [],
   "source": [
    "W1 = W1.to_numpy()\n",
    "W2 = W2.to_numpy()"
   ]
  },
  {
   "cell_type": "code",
   "execution_count": 9,
   "metadata": {},
   "outputs": [],
   "source": [
    "kmeans = KMeans(n_clusters = 3).fit(W1)"
   ]
  },
  {
   "cell_type": "code",
   "execution_count": 10,
   "metadata": {},
   "outputs": [],
   "source": [
    "labels = kmeans.predict(W1)"
   ]
  },
  {
   "cell_type": "code",
   "execution_count": 11,
   "metadata": {},
   "outputs": [
    {
     "data": {
      "text/plain": [
       "15"
      ]
     },
     "execution_count": 11,
     "metadata": {},
     "output_type": "execute_result"
    }
   ],
   "source": [
    "W1[labels == 1].shape[0]"
   ]
  },
  {
   "cell_type": "code",
   "execution_count": 12,
   "metadata": {},
   "outputs": [
    {
     "data": {
      "text/plain": [
       "array([[6.67857143, 2.98571429, 5.52142857, 1.99285714],\n",
       "       [5.07333333, 3.36666667, 1.48      , 0.27333333],\n",
       "       [5.85714286, 2.71904762, 4.37619048, 1.38571429]])"
      ]
     },
     "execution_count": 12,
     "metadata": {},
     "output_type": "execute_result"
    }
   ],
   "source": [
    "kmeans.cluster_centers_"
   ]
  },
  {
   "cell_type": "code",
   "execution_count": 13,
   "metadata": {},
   "outputs": [
    {
     "data": {
      "text/plain": [
       "array([1, 0, 2, 1, 0, 2, 2, 0, 1, 2, 2, 1, 2, 0, 1, 2, 2, 2, 2, 0, 1, 1,\n",
       "       2, 1, 2, 1, 2, 1, 0, 0, 0, 1, 2, 2, 2, 0, 2, 2, 2, 1, 1, 0, 0, 0,\n",
       "       1, 2, 0, 1, 2, 0], dtype=int32)"
      ]
     },
     "execution_count": 13,
     "metadata": {},
     "output_type": "execute_result"
    }
   ],
   "source": [
    "labels"
   ]
  },
  {
   "cell_type": "code",
   "execution_count": 14,
   "metadata": {},
   "outputs": [
    {
     "data": {
      "text/plain": [
       "array([ 0,  3,  8, 11, 14, 20, 21, 23, 25, 27, 31, 39, 40, 44, 47])"
      ]
     },
     "execution_count": 14,
     "metadata": {},
     "output_type": "execute_result"
    }
   ],
   "source": [
    "np.nonzero(labels == 1)[0]"
   ]
  },
  {
   "cell_type": "code",
   "execution_count": 15,
   "metadata": {},
   "outputs": [
    {
     "data": {
      "text/plain": [
       "array([[ 0.0492381 ,  0.03690476, -0.00485714,  0.00709524],\n",
       "       [ 0.03690476,  0.06952381,  0.01071429,  0.01761905],\n",
       "       [-0.00485714,  0.01071429,  0.03028571,  0.00585714],\n",
       "       [ 0.00709524,  0.01761905,  0.00585714,  0.01638095]])"
      ]
     },
     "execution_count": 15,
     "metadata": {},
     "output_type": "execute_result"
    }
   ],
   "source": [
    "np.cov(W1[labels==1].T)"
   ]
  },
  {
   "cell_type": "code",
   "execution_count": 16,
   "metadata": {},
   "outputs": [
    {
     "data": {
      "text/plain": [
       "(15, 4)"
      ]
     },
     "execution_count": 16,
     "metadata": {},
     "output_type": "execute_result"
    }
   ],
   "source": [
    "W1[labels == 1].shape"
   ]
  },
  {
   "cell_type": "code",
   "execution_count": 17,
   "metadata": {},
   "outputs": [],
   "source": [
    "c = np.array([5,15,10,20])\n",
    "c = c / 50"
   ]
  },
  {
   "cell_type": "code",
   "execution_count": 18,
   "metadata": {},
   "outputs": [],
   "source": [
    "sc = np.zeros((5*5,4))"
   ]
  },
  {
   "cell_type": "code",
   "execution_count": 19,
   "metadata": {},
   "outputs": [],
   "source": [
    "sc = np.random.rand(25,4)"
   ]
  },
  {
   "cell_type": "code",
   "execution_count": 20,
   "metadata": {},
   "outputs": [
    {
     "data": {
      "text/plain": [
       "(4, 25)"
      ]
     },
     "execution_count": 20,
     "metadata": {},
     "output_type": "execute_result"
    }
   ],
   "source": [
    "np.tile(c, (25,1)).T.shape"
   ]
  },
  {
   "cell_type": "code",
   "execution_count": 21,
   "metadata": {},
   "outputs": [
    {
     "data": {
      "text/plain": [
       "(25, 4)"
      ]
     },
     "execution_count": 21,
     "metadata": {},
     "output_type": "execute_result"
    }
   ],
   "source": [
    "sc.shape"
   ]
  },
  {
   "cell_type": "code",
   "execution_count": 22,
   "metadata": {},
   "outputs": [
    {
     "data": {
      "text/plain": [
       "array([0.28611427, 0.44163482, 0.83077519, 0.54157962, 0.62608178,\n",
       "       0.62759913, 0.82219584, 0.54937484, 0.27319453, 0.2276199 ,\n",
       "       0.37998607, 0.53903663, 0.83049526, 0.29717607, 0.61683831,\n",
       "       0.78503962, 0.66749441, 0.2289121 , 0.5958202 , 0.72074868,\n",
       "       0.58667682, 0.36365543, 0.47716338, 0.42903341, 0.62993615])"
      ]
     },
     "execution_count": 22,
     "metadata": {},
     "output_type": "execute_result"
    }
   ],
   "source": [
    "np.sum(sc*(np.tile(c, (25,1))),1)"
   ]
  },
  {
   "cell_type": "code",
   "execution_count": 23,
   "metadata": {},
   "outputs": [],
   "source": [
    "def mahalanobis(W1, W2, K):\n",
    "    \"\"\"\n",
    "    W1 = data from window 1\n",
    "    W2 = data from window 2\n",
    "    K = number of clusters.\n",
    "    \"\"\"\n",
    "    \n",
    "    # m1 - number of rows sampled\n",
    "    # n - number of features (should be same for W1 and W2)\n",
    "    m1, n = W1.shape\n",
    "    m2 = W2.shape[0]\n",
    "    \n",
    "    # Using K-means for clustering since Gaussian will be computationally very expensive\n",
    "    kmeans = KMeans(n_clusters = K).fit(W1)\n",
    "    \n",
    "    # means of each cluster to calculate the probability function of each cluster\n",
    "    labels = kmeans.predict(W1)\n",
    "    means = kmeans.cluster_centers_\n",
    "    \n",
    "    # Common covariance matrix initialisation for each cluster\n",
    "    cov_store = np.zeros((n*n,K))\n",
    "    weights = np.zeros((K))\n",
    "    \n",
    "    # weight calculation for each cluster\n",
    "    for i in range(K):\n",
    "        w = W1[labels == i].shape[0]\n",
    "        weights[i] = w\n",
    "        if (w > 1):\n",
    "            co = np.cov(W1[labels == i].T)\n",
    "            cov_store[:,i] = co.flatten()\n",
    "    \n",
    "    weights /= m1\n",
    "    \n",
    "    sc = np.sum(cov_store*(np.tile(weights, (n*n,1))),1)\n",
    "    \n",
    "    # Inverse of covariance calculation for mahalanobis distance\n",
    "    sc = np.reshape(sc, (n,n))\n",
    "    invcov = np.linalg.pinv(sc)\n",
    "    \n",
    "    covsum = np.zeros((m2))\n",
    "    \n",
    "    # Calculate the Mahalanobis distance\n",
    "    for i in range(m2):        \n",
    "        dist = np.zeros((K))\n",
    "        for k in range(K):\n",
    "            if weights[k] > 0:\n",
    "                dist[k] = np.dot(np.dot(means[k,:] - W2[i,:] , invcov), means[k,:] - W2[i,:])\n",
    "            else:\n",
    "                dist[k] = np.inf\n",
    "        covsum[i] = np.min(dist)\n",
    "    \n",
    "    # Return the mean of variance of each cluster\n",
    "    return np.mean(covsum)"
   ]
  },
  {
   "cell_type": "code",
   "execution_count": 24,
   "metadata": {},
   "outputs": [
    {
     "data": {
      "text/plain": [
       "4.031402940934819"
      ]
     },
     "execution_count": 24,
     "metadata": {},
     "output_type": "execute_result"
    }
   ],
   "source": [
    "mahalanobis(W1,W2,3)"
   ]
  },
  {
   "cell_type": "code",
   "execution_count": 25,
   "metadata": {},
   "outputs": [
    {
     "data": {
      "text/plain": [
       "0.0"
      ]
     },
     "execution_count": 25,
     "metadata": {},
     "output_type": "execute_result"
    }
   ],
   "source": [
    "p = 0.7\n",
    "float(p < 0.5)"
   ]
  },
  {
   "cell_type": "code",
   "execution_count": 26,
   "metadata": {},
   "outputs": [
    {
     "data": {
      "text/plain": [
       "0.24469728058103823"
      ]
     },
     "execution_count": 26,
     "metadata": {},
     "output_type": "execute_result"
    }
   ],
   "source": [
    "1-chi2.cdf(4.16,3)"
   ]
  },
  {
   "cell_type": "code",
   "execution_count": 116,
   "metadata": {},
   "outputs": [],
   "source": [
    "def SPLL(W1,W2,K):\n",
    "    \n",
    "    n = W1.shape[1]\n",
    "    \n",
    "    s1 = mahalanobis(W1,W2,K)\n",
    "    s2 = mahalanobis(W1, W2, K)\n",
    "    \n",
    "    s = max(s1,s2)\n",
    "    # Chi square value for n degree of freedoms\n",
    "    p_val = chi2.cdf(s,n)\n",
    "    # Two-tailed chi square test\n",
    "    ps = min (p_val, 1 - p_val)\n",
    "    \n",
    "    # Considering the confidence interval to be 0.05\n",
    "    return ps, s\n",
    "    "
   ]
  },
  {
   "cell_type": "code",
   "execution_count": 70,
   "metadata": {},
   "outputs": [
    {
     "data": {
      "text/plain": [
       "(1, 0.0, 662.693093525989)"
      ]
     },
     "execution_count": 70,
     "metadata": {},
     "output_type": "execute_result"
    }
   ],
   "source": [
    "SPLL(W1,W2,3,0.05)"
   ]
  },
  {
   "cell_type": "code",
   "execution_count": 29,
   "metadata": {},
   "outputs": [],
   "source": [
    "W2[:,[0,3]] = W2[:,[3,0]]"
   ]
  },
  {
   "cell_type": "code",
   "execution_count": 71,
   "metadata": {},
   "outputs": [
    {
     "data": {
      "text/plain": [
       "(1, 0.0, 665.7922881915224)"
      ]
     },
     "execution_count": 71,
     "metadata": {},
     "output_type": "execute_result"
    }
   ],
   "source": [
    "SPLL(W1,W2,3,0.05)"
   ]
  },
  {
   "cell_type": "code",
   "execution_count": 31,
   "metadata": {},
   "outputs": [],
   "source": [
    "def create_samples(df, elements):\n",
    "    W1 = df.sample(elements)\n",
    "    W2 = df.drop(W1.index , axis = 0).sample(50)\n",
    "    \n",
    "    W1.reset_index(drop = True, inplace = True)\n",
    "    W2.reset_index(drop = True, inplace = True)\n",
    "    \n",
    "    W1 = W1.to_numpy()\n",
    "    W2 = W2.to_numpy()\n",
    "    return W1,W2"
   ]
  },
  {
   "cell_type": "code",
   "execution_count": 32,
   "metadata": {},
   "outputs": [],
   "source": [
    "def swap_columns(arr):\n",
    "    n = arr.shape[1]\n",
    "    r = np.random.randint(n, size = (1,2))\n",
    "    while (r[0,0] == r[0,1]):\n",
    "        r = np.random.randint(n, size = (1,2))\n",
    "    \n",
    "    arr[:, [r[0,0],r[0,1]]] = arr[:, [r[0,1],r[0,0]]]\n",
    "    \n",
    "    return arr\n",
    "        "
   ]
  },
  {
   "cell_type": "code",
   "execution_count": 98,
   "metadata": {},
   "outputs": [],
   "source": [
    "def no_change_cal(df,count = 50):\n",
    "#     A_nochange = [0 for i in range(count)]\n",
    "#     p_val = [0 for i in range(count)]\n",
    "#     m_dist = [0 for i in range(count)]\n",
    "    W1 = [0 for i in range(count)]\n",
    "    W2 = [0 for i in range(count)]\n",
    "    for i in range(count):\n",
    "        W1[i],W2[i] = create_samples(df,count)\n",
    "#         A_nochange[i],p_val[i],m_dist[i] = SPLL(W1,W2,K,alpha)\n",
    "#     print (A_change[-1])\n",
    "#     return A_nochange,p_val,m_dist\n",
    "    return W1,W2"
   ]
  },
  {
   "cell_type": "code",
   "execution_count": 96,
   "metadata": {},
   "outputs": [
    {
     "data": {
      "text/plain": [
       "array([[[0., 0., 0.],\n",
       "        [0., 0., 0.],\n",
       "        [0., 0., 0.],\n",
       "        [0., 0., 0.],\n",
       "        [0., 0., 0.],\n",
       "        [0., 0., 0.],\n",
       "        [0., 0., 0.],\n",
       "        [0., 0., 0.],\n",
       "        [0., 0., 0.],\n",
       "        [0., 0., 0.]]])"
      ]
     },
     "execution_count": 96,
     "metadata": {},
     "output_type": "execute_result"
    }
   ],
   "source": [
    "np.zeros([1,10,3])"
   ]
  },
  {
   "cell_type": "code",
   "execution_count": 97,
   "metadata": {},
   "outputs": [],
   "source": [
    "def change_cal(df,count = 50):\n",
    "#     A_change = [0 for i in range(count)]\n",
    "#     p_val = [0 for i in range(count)]\n",
    "#     m_dist = [0 for i in range(count)]\n",
    "    W1 = [0 for i in range(count)]\n",
    "    W2 = [0 for i in range(count)]\n",
    "    for i in range(count):\n",
    "        W1[i],W2[i] = create_samples(df,count)\n",
    "        W2[i] = swap_columns(W2[i])\n",
    "#         A_change[i],p_val[i],m_dist[i] = SPLL(W1,W2,K,alpha)\n",
    "#     print (A_change[-1])\n",
    "#     return A_change,p_val,m_dist\n",
    "    return W1,W2"
   ]
  },
  {
   "cell_type": "code",
   "execution_count": 136,
   "metadata": {},
   "outputs": [],
   "source": [
    "data_count = 80\n",
    "count = 50\n",
    "num = 100\n",
    "K = 3\n",
    "\n",
    "tpr = [0 for i in range(num)]\n",
    "fpr = [0 for i in range(num)]\n",
    "#     A_nochange,_,_ = no_change_cal(df,2,alpha,50)\n",
    "#     A_change,_,_ = change_cal(df,2,alpha,50)\n",
    "\n",
    "w11,w12 = no_change_cal(df,data_count)\n",
    "w21,w22 = change_cal(df,data_count)\n",
    "ps_nochange = [0 for i in range(count)]\n",
    "ps_change = [0 for i in range(count)]\n",
    "s_nochange = [0 for i in range(count)]\n",
    "s_change = [0 for i in range(count)]\n",
    "for i in range(count):\n",
    "    ps_nochange[i],s_nochange[i] = SPLL(w11[i],w12[i],3)\n",
    "    ps_change[i],s_change[i] = SPLL(w21[i],w22[i],3)\n",
    "\n",
    "    \n",
    "for k,alpha in enumerate(np.linspace(0,0.6,num)):\n",
    "    A_nochange = [0 for i in range(count)]\n",
    "    A_change = [0 for i in range(count)]\n",
    "    for i in range(count):\n",
    "        A_nochange[i] = float(ps_nochange[i] < alpha)\n",
    "        A_change[i] = float(ps_change[i] < alpha)\n",
    "    A_criterion = A_nochange + A_change\n",
    "    actual = [0 for i in range(count)] + [1 for i in range(count)]\n",
    "    tn, fp, fn, tp = confusion_matrix(actual,A_criterion).ravel()\n",
    "    tpr[k] = tp/(tp+fn)\n",
    "    fpr[k] = fp/(fp+tn)\n",
    "#     print (A_criterion,'\\n',actual)\n",
    "    #print (confusion_matrix(actual,A_criterion), tpr[k],fpr[k],'tp:',tp,'tn:',tn,'fp:',fp,'fn:',fn)"
   ]
  },
  {
   "cell_type": "code",
   "execution_count": 137,
   "metadata": {},
   "outputs": [
    {
     "data": {
      "text/plain": [
       "80"
      ]
     },
     "execution_count": 137,
     "metadata": {},
     "output_type": "execute_result"
    }
   ],
   "source": [
    "len(w11)"
   ]
  },
  {
   "cell_type": "code",
   "execution_count": 143,
   "metadata": {},
   "outputs": [
    {
     "data": {
      "text/plain": [
       "RangeIndex(start=0, stop=14500, step=1)"
      ]
     },
     "execution_count": 143,
     "metadata": {},
     "output_type": "execute_result"
    }
   ],
   "source": [
    "df.index"
   ]
  },
  {
   "cell_type": "code",
   "execution_count": 142,
   "metadata": {},
   "outputs": [
    {
     "data": {
      "image/png": "[encoded data removed]",
      "text/plain": [
       "<Figure size 432x288 with 1 Axes>"
      ]
     },
     "metadata": {
      "needs_background": "light"
     },
     "output_type": "display_data"
    }
   ],
   "source": [
    "plt.plot(fpr,tpr,'-ro')\n",
    "plt.xlabel(\"False Positive rate\")\n",
    "plt.ylabel(\"True Positive rate\")\n",
    "plt.title(\"ROC curve\")\n",
    "plt.show()"
   ]
  },
  {
   "cell_type": "code",
   "execution_count": null,
   "metadata": {},
   "outputs": [],
   "source": []
  },
  {
   "cell_type": "code",
   "execution_count": null,
   "metadata": {},
   "outputs": [],
   "source": []
  },
  {
   "cell_type": "code",
   "execution_count": 99,
   "metadata": {},
   "outputs": [],
   "source": [
    "from sklearn.metrics import recall_score\n",
    "from sklearn.metrics import roc_curve"
   ]
  },
  {
   "cell_type": "code",
   "execution_count": 100,
   "metadata": {},
   "outputs": [
    {
     "data": {
      "text/plain": [
       "(array([0. , 0.5, 1. ]), array([0., 1., 1.]), array([2, 1, 0]))"
      ]
     },
     "execution_count": 100,
     "metadata": {},
     "output_type": "execute_result"
    }
   ],
   "source": [
    "roc_curve([1,0,1,0],[1,1,1,0])"
   ]
  },
  {
   "cell_type": "code",
   "execution_count": 101,
   "metadata": {},
   "outputs": [
    {
     "data": {
      "text/plain": [
       "array([1, 1, 0, 2])"
      ]
     },
     "execution_count": 101,
     "metadata": {},
     "output_type": "execute_result"
    }
   ],
   "source": [
    "confusion_matrix([1,0,1,0],[1,1,1,0]).ravel()"
   ]
  },
  {
   "cell_type": "code",
   "execution_count": 102,
   "metadata": {},
   "outputs": [
    {
     "data": {
      "text/plain": [
       "array([[1, 1],\n",
       "       [0, 2]])"
      ]
     },
     "execution_count": 102,
     "metadata": {},
     "output_type": "execute_result"
    }
   ],
   "source": [
    "confusion_matrix([1,0,1,0],[1,1,1,0])"
   ]
  },
  {
   "cell_type": "code",
   "execution_count": 104,
   "metadata": {},
   "outputs": [
    {
     "name": "stdout",
     "output_type": "stream",
     "text": [
      "0 3\n",
      "1 4\n",
      "2 5\n"
     ]
    }
   ],
   "source": [
    "for i,j in enumerate([3,4,5]):\n",
    "    print(i,j)"
   ]
  },
  {
   "cell_type": "markdown",
   "metadata": {},
   "source": [
    "## Satimage dataset"
   ]
  },
  {
   "cell_type": "code",
   "execution_count": 131,
   "metadata": {},
   "outputs": [
    {
     "data": {
      "text/html": [
       "<div>\n",
       "<style scoped>\n",
       "    .dataframe tbody tr th:only-of-type {\n",
       "        vertical-align: middle;\n",
       "    }\n",
       "\n",
       "    .dataframe tbody tr th {\n",
       "        vertical-align: top;\n",
       "    }\n",
       "\n",
       "    .dataframe thead th {\n",
       "        text-align: right;\n",
       "    }\n",
       "</style>\n",
       "<table border=\"1\" class=\"dataframe\">\n",
       "  <thead>\n",
       "    <tr style=\"text-align: right;\">\n",
       "      <th></th>\n",
       "      <th>Aattr</th>\n",
       "      <th>Battr</th>\n",
       "      <th>Cattr</th>\n",
       "      <th>Dattr</th>\n",
       "      <th>Eattr</th>\n",
       "      <th>Fattr</th>\n",
       "      <th>A1attr</th>\n",
       "      <th>B2attr</th>\n",
       "      <th>C3attr</th>\n",
       "      <th>D4attr</th>\n",
       "      <th>...</th>\n",
       "      <th>D22attr</th>\n",
       "      <th>E23attr</th>\n",
       "      <th>F24attr</th>\n",
       "      <th>A25attr</th>\n",
       "      <th>B26attr</th>\n",
       "      <th>C27attr</th>\n",
       "      <th>D28attr</th>\n",
       "      <th>E29attr</th>\n",
       "      <th>F30attr</th>\n",
       "      <th>class</th>\n",
       "    </tr>\n",
       "  </thead>\n",
       "  <tbody>\n",
       "    <tr>\n",
       "      <th>0</th>\n",
       "      <td>0.117596</td>\n",
       "      <td>1.241362</td>\n",
       "      <td>1.184036</td>\n",
       "      <td>0.815302</td>\n",
       "      <td>-0.158561</td>\n",
       "      <td>1.256483</td>\n",
       "      <td>1.193546</td>\n",
       "      <td>0.818486</td>\n",
       "      <td>-0.141965</td>\n",
       "      <td>0.879481</td>\n",
       "      <td>...</td>\n",
       "      <td>0.807707</td>\n",
       "      <td>-0.069968</td>\n",
       "      <td>1.219160</td>\n",
       "      <td>1.250463</td>\n",
       "      <td>0.597678</td>\n",
       "      <td>-0.054291</td>\n",
       "      <td>1.233342</td>\n",
       "      <td>1.262255</td>\n",
       "      <td>0.603258</td>\n",
       "      <td>1</td>\n",
       "    </tr>\n",
       "    <tr>\n",
       "      <th>1</th>\n",
       "      <td>-1.205362</td>\n",
       "      <td>-1.249654</td>\n",
       "      <td>-0.077532</td>\n",
       "      <td>0.444886</td>\n",
       "      <td>-0.895959</td>\n",
       "      <td>-0.447579</td>\n",
       "      <td>-0.786760</td>\n",
       "      <td>-0.554203</td>\n",
       "      <td>-0.364672</td>\n",
       "      <td>0.092157</td>\n",
       "      <td>...</td>\n",
       "      <td>-0.192752</td>\n",
       "      <td>-0.736996</td>\n",
       "      <td>-0.969292</td>\n",
       "      <td>-0.844805</td>\n",
       "      <td>-0.400030</td>\n",
       "      <td>-0.725852</td>\n",
       "      <td>-0.344432</td>\n",
       "      <td>-0.594534</td>\n",
       "      <td>-0.183967</td>\n",
       "      <td>5</td>\n",
       "    </tr>\n",
       "    <tr>\n",
       "      <th>2</th>\n",
       "      <td>0.779075</td>\n",
       "      <td>0.148811</td>\n",
       "      <td>0.042617</td>\n",
       "      <td>-0.243030</td>\n",
       "      <td>0.800057</td>\n",
       "      <td>0.164136</td>\n",
       "      <td>0.053370</td>\n",
       "      <td>-0.448612</td>\n",
       "      <td>0.154978</td>\n",
       "      <td>-0.345245</td>\n",
       "      <td>...</td>\n",
       "      <td>-0.877277</td>\n",
       "      <td>0.671174</td>\n",
       "      <td>-0.006373</td>\n",
       "      <td>-0.425752</td>\n",
       "      <td>-0.662584</td>\n",
       "      <td>0.691889</td>\n",
       "      <td>0.356801</td>\n",
       "      <td>-0.175259</td>\n",
       "      <td>-0.236449</td>\n",
       "      <td>7</td>\n",
       "    </tr>\n",
       "    <tr>\n",
       "      <th>3</th>\n",
       "      <td>1.146564</td>\n",
       "      <td>0.585831</td>\n",
       "      <td>0.342991</td>\n",
       "      <td>0.021553</td>\n",
       "      <td>0.947536</td>\n",
       "      <td>0.601074</td>\n",
       "      <td>0.353416</td>\n",
       "      <td>0.026550</td>\n",
       "      <td>1.788164</td>\n",
       "      <td>1.010702</td>\n",
       "      <td>...</td>\n",
       "      <td>0.281150</td>\n",
       "      <td>1.412317</td>\n",
       "      <td>1.044084</td>\n",
       "      <td>0.532085</td>\n",
       "      <td>0.282612</td>\n",
       "      <td>1.438068</td>\n",
       "      <td>1.058033</td>\n",
       "      <td>0.842981</td>\n",
       "      <td>0.130923</td>\n",
       "      <td>3</td>\n",
       "    </tr>\n",
       "    <tr>\n",
       "      <th>4</th>\n",
       "      <td>-0.764376</td>\n",
       "      <td>-1.162250</td>\n",
       "      <td>-0.137607</td>\n",
       "      <td>0.180303</td>\n",
       "      <td>-0.969698</td>\n",
       "      <td>-1.146681</td>\n",
       "      <td>-0.126658</td>\n",
       "      <td>0.184937</td>\n",
       "      <td>-0.735851</td>\n",
       "      <td>-1.132569</td>\n",
       "      <td>...</td>\n",
       "      <td>-0.192752</td>\n",
       "      <td>-0.885225</td>\n",
       "      <td>-1.231906</td>\n",
       "      <td>-0.784941</td>\n",
       "      <td>-0.347519</td>\n",
       "      <td>-0.875088</td>\n",
       "      <td>-1.220973</td>\n",
       "      <td>-0.774223</td>\n",
       "      <td>-0.551339</td>\n",
       "      <td>5</td>\n",
       "    </tr>\n",
       "  </tbody>\n",
       "</table>\n",
       "<p>5 rows × 37 columns</p>\n",
       "</div>"
      ],
      "text/plain": [
       "      Aattr     Battr     Cattr     Dattr     Eattr     Fattr    A1attr  \\\n",
       "0  0.117596  1.241362  1.184036  0.815302 -0.158561  1.256483  1.193546   \n",
       "1 -1.205362 -1.249654 -0.077532  0.444886 -0.895959 -0.447579 -0.786760   \n",
       "2  0.779075  0.148811  0.042617 -0.243030  0.800057  0.164136  0.053370   \n",
       "3  1.146564  0.585831  0.342991  0.021553  0.947536  0.601074  0.353416   \n",
       "4 -0.764376 -1.162250 -0.137607  0.180303 -0.969698 -1.146681 -0.126658   \n",
       "\n",
       "     B2attr    C3attr    D4attr  ...   D22attr   E23attr   F24attr   A25attr  \\\n",
       "0  0.818486 -0.141965  0.879481  ...  0.807707 -0.069968  1.219160  1.250463   \n",
       "1 -0.554203 -0.364672  0.092157  ... -0.192752 -0.736996 -0.969292 -0.844805   \n",
       "2 -0.448612  0.154978 -0.345245  ... -0.877277  0.671174 -0.006373 -0.425752   \n",
       "3  0.026550  1.788164  1.010702  ...  0.281150  1.412317  1.044084  0.532085   \n",
       "4  0.184937 -0.735851 -1.132569  ... -0.192752 -0.885225 -1.231906 -0.784941   \n",
       "\n",
       "    B26attr   C27attr   D28attr   E29attr   F30attr  class  \n",
       "0  0.597678 -0.054291  1.233342  1.262255  0.603258      1  \n",
       "1 -0.400030 -0.725852 -0.344432 -0.594534 -0.183967      5  \n",
       "2 -0.662584  0.691889  0.356801 -0.175259 -0.236449      7  \n",
       "3  0.282612  1.438068  1.058033  0.842981  0.130923      3  \n",
       "4 -0.347519 -0.875088 -1.220973 -0.774223 -0.551339      5  \n",
       "\n",
       "[5 rows x 37 columns]"
      ]
     },
     "execution_count": 131,
     "metadata": {},
     "output_type": "execute_result"
    }
   ],
   "source": [
    "df = pd.read_csv('satimage_csv.csv')\n",
    "df.head()"
   ]
  },
  {
   "cell_type": "code",
   "execution_count": 40,
   "metadata": {},
   "outputs": [],
   "source": [
    "tpr = [0 for i in range(20)]\n",
    "fpr = [0 for i in range(20)]\n",
    "for i,alpha in enumerate(np.linspace(0,1,20)):\n",
    "    A_nochange,_,_ = no_change_cal(df,3,alpha,50)\n",
    "    A_change,_,_ = change_cal(df,3,alpha,50)\n",
    "    A_criterion = A_nochange + A_change\n",
    "    actual = [0 for i in range(50)] + [1 for i in range(50)]\n",
    "    tn, fp, fn, tp = confusion_matrix(actual,A_criterion).ravel()\n",
    "    tpr[i] = tp/(tp+fn)\n",
    "    fpr[i] = fp/(fp+tn)"
   ]
  },
  {
   "cell_type": "code",
   "execution_count": 41,
   "metadata": {},
   "outputs": [
    {
     "data": {
      "image/png": "[encoded data removed]",
      "text/plain": [
       "<Figure size 432x288 with 1 Axes>"
      ]
     },
     "metadata": {
      "needs_background": "light"
     },
     "output_type": "display_data"
    }
   ],
   "source": [
    "plt.plot(fpr,tpr)\n",
    "plt.xlabel(\"False Positive rate\")\n",
    "plt.ylabel(\"True Positive rate\")\n",
    "plt.title(\"ROC curve\")\n",
    "plt.show()"
   ]
  },
  {
   "cell_type": "markdown",
   "metadata": {},
   "source": [
    "## Shuttle dataset"
   ]
  },
  {
   "cell_type": "code",
   "execution_count": 135,
   "metadata": {},
   "outputs": [
    {
     "data": {
      "text/html": [
       "<div>\n",
       "<style scoped>\n",
       "    .dataframe tbody tr th:only-of-type {\n",
       "        vertical-align: middle;\n",
       "    }\n",
       "\n",
       "    .dataframe tbody tr th {\n",
       "        vertical-align: top;\n",
       "    }\n",
       "\n",
       "    .dataframe thead th {\n",
       "        text-align: right;\n",
       "    }\n",
       "</style>\n",
       "<table border=\"1\" class=\"dataframe\">\n",
       "  <thead>\n",
       "    <tr style=\"text-align: right;\">\n",
       "      <th></th>\n",
       "      <th>0</th>\n",
       "      <th>1</th>\n",
       "      <th>2</th>\n",
       "      <th>3</th>\n",
       "      <th>4</th>\n",
       "      <th>5</th>\n",
       "      <th>6</th>\n",
       "      <th>7</th>\n",
       "      <th>8</th>\n",
       "      <th>9</th>\n",
       "    </tr>\n",
       "  </thead>\n",
       "  <tbody>\n",
       "    <tr>\n",
       "      <th>0</th>\n",
       "      <td>55</td>\n",
       "      <td>0</td>\n",
       "      <td>81</td>\n",
       "      <td>0</td>\n",
       "      <td>-6</td>\n",
       "      <td>11</td>\n",
       "      <td>25</td>\n",
       "      <td>88</td>\n",
       "      <td>64</td>\n",
       "      <td>4</td>\n",
       "    </tr>\n",
       "    <tr>\n",
       "      <th>1</th>\n",
       "      <td>56</td>\n",
       "      <td>0</td>\n",
       "      <td>96</td>\n",
       "      <td>0</td>\n",
       "      <td>52</td>\n",
       "      <td>-4</td>\n",
       "      <td>40</td>\n",
       "      <td>44</td>\n",
       "      <td>4</td>\n",
       "      <td>4</td>\n",
       "    </tr>\n",
       "    <tr>\n",
       "      <th>2</th>\n",
       "      <td>50</td>\n",
       "      <td>-1</td>\n",
       "      <td>89</td>\n",
       "      <td>-7</td>\n",
       "      <td>50</td>\n",
       "      <td>0</td>\n",
       "      <td>39</td>\n",
       "      <td>40</td>\n",
       "      <td>2</td>\n",
       "      <td>1</td>\n",
       "    </tr>\n",
       "    <tr>\n",
       "      <th>3</th>\n",
       "      <td>53</td>\n",
       "      <td>9</td>\n",
       "      <td>79</td>\n",
       "      <td>0</td>\n",
       "      <td>42</td>\n",
       "      <td>-2</td>\n",
       "      <td>25</td>\n",
       "      <td>37</td>\n",
       "      <td>12</td>\n",
       "      <td>4</td>\n",
       "    </tr>\n",
       "    <tr>\n",
       "      <th>4</th>\n",
       "      <td>55</td>\n",
       "      <td>2</td>\n",
       "      <td>82</td>\n",
       "      <td>0</td>\n",
       "      <td>54</td>\n",
       "      <td>-6</td>\n",
       "      <td>26</td>\n",
       "      <td>28</td>\n",
       "      <td>2</td>\n",
       "      <td>1</td>\n",
       "    </tr>\n",
       "  </tbody>\n",
       "</table>\n",
       "</div>"
      ],
      "text/plain": [
       "    0  1   2  3   4   5   6   7   8  9\n",
       "0  55  0  81  0  -6  11  25  88  64  4\n",
       "1  56  0  96  0  52  -4  40  44   4  4\n",
       "2  50 -1  89 -7  50   0  39  40   2  1\n",
       "3  53  9  79  0  42  -2  25  37  12  4\n",
       "4  55  2  82  0  54  -6  26  28   2  1"
      ]
     },
     "execution_count": 135,
     "metadata": {},
     "output_type": "execute_result"
    }
   ],
   "source": [
    "df = pd.read_csv('shuttle.csv', header = None)\n",
    "df.head()"
   ]
  },
  {
   "cell_type": "code",
   "execution_count": 42,
   "metadata": {},
   "outputs": [],
   "source": [
    "iter = [0 for i in range(100)]\n",
    "tpr = [0 for i in range(100)]\n",
    "fpr = [0 for i in range(100)]\n",
    "for i,alpha in enumerate(np.linspace(0,1,20)):\n",
    "    A_nochange,_,_ = no_change_cal(df,3,alpha,50)\n",
    "    A_change,_,_ = change_cal(df,3,alpha,50)\n",
    "    A_criterion = A_nochange + A_change\n",
    "    actual = [0 for i in range(50)] + [1 for i in range(50)]\n",
    "    tn, fp, fn, tp = confusion_matrix(actual,A_criterion).ravel()\n",
    "    tpr[i] = tp/(tp+fn)\n",
    "    fpr[i] = fp/(fp+tn)"
   ]
  },
  {
   "cell_type": "code",
   "execution_count": 43,
   "metadata": {},
   "outputs": [
    {
     "data": {
      "image/png": "[encoded data removed]",
      "text/plain": [
       "<Figure size 432x288 with 1 Axes>"
      ]
     },
     "metadata": {
      "needs_background": "light"
     },
     "output_type": "display_data"
    }
   ],
   "source": [
    "plt.plot(fpr[:20],tpr[:20])\n",
    "plt.xlabel(\"False Positive rate\")\n",
    "plt.ylabel(\"True Positive rate\")\n",
    "plt.title(\"ROC curve\")\n",
    "plt.show()"
   ]
  },
  {
   "cell_type": "markdown",
   "metadata": {},
   "source": [
    "## WBC  dataset"
   ]
  },
  {
   "cell_type": "code",
   "execution_count": 48,
   "metadata": {},
   "outputs": [
    {
     "data": {
      "text/html": [
       "<div>\n",
       "<style scoped>\n",
       "    .dataframe tbody tr th:only-of-type {\n",
       "        vertical-align: middle;\n",
       "    }\n",
       "\n",
       "    .dataframe tbody tr th {\n",
       "        vertical-align: top;\n",
       "    }\n",
       "\n",
       "    .dataframe thead th {\n",
       "        text-align: right;\n",
       "    }\n",
       "</style>\n",
       "<table border=\"1\" class=\"dataframe\">\n",
       "  <thead>\n",
       "    <tr style=\"text-align: right;\">\n",
       "      <th></th>\n",
       "      <th>0</th>\n",
       "      <th>1</th>\n",
       "      <th>2</th>\n",
       "      <th>3</th>\n",
       "      <th>4</th>\n",
       "      <th>5</th>\n",
       "      <th>6</th>\n",
       "      <th>7</th>\n",
       "      <th>8</th>\n",
       "      <th>9</th>\n",
       "    </tr>\n",
       "  </thead>\n",
       "  <tbody>\n",
       "    <tr>\n",
       "      <th>0</th>\n",
       "      <td>5</td>\n",
       "      <td>1</td>\n",
       "      <td>1</td>\n",
       "      <td>1</td>\n",
       "      <td>2</td>\n",
       "      <td>1</td>\n",
       "      <td>3</td>\n",
       "      <td>1</td>\n",
       "      <td>1</td>\n",
       "      <td>2</td>\n",
       "    </tr>\n",
       "    <tr>\n",
       "      <th>1</th>\n",
       "      <td>5</td>\n",
       "      <td>4</td>\n",
       "      <td>4</td>\n",
       "      <td>5</td>\n",
       "      <td>7</td>\n",
       "      <td>10</td>\n",
       "      <td>3</td>\n",
       "      <td>2</td>\n",
       "      <td>1</td>\n",
       "      <td>2</td>\n",
       "    </tr>\n",
       "    <tr>\n",
       "      <th>2</th>\n",
       "      <td>3</td>\n",
       "      <td>1</td>\n",
       "      <td>1</td>\n",
       "      <td>1</td>\n",
       "      <td>2</td>\n",
       "      <td>2</td>\n",
       "      <td>3</td>\n",
       "      <td>1</td>\n",
       "      <td>1</td>\n",
       "      <td>2</td>\n",
       "    </tr>\n",
       "    <tr>\n",
       "      <th>3</th>\n",
       "      <td>6</td>\n",
       "      <td>8</td>\n",
       "      <td>8</td>\n",
       "      <td>1</td>\n",
       "      <td>3</td>\n",
       "      <td>4</td>\n",
       "      <td>3</td>\n",
       "      <td>7</td>\n",
       "      <td>1</td>\n",
       "      <td>2</td>\n",
       "    </tr>\n",
       "    <tr>\n",
       "      <th>4</th>\n",
       "      <td>4</td>\n",
       "      <td>1</td>\n",
       "      <td>1</td>\n",
       "      <td>3</td>\n",
       "      <td>2</td>\n",
       "      <td>1</td>\n",
       "      <td>3</td>\n",
       "      <td>1</td>\n",
       "      <td>1</td>\n",
       "      <td>2</td>\n",
       "    </tr>\n",
       "  </tbody>\n",
       "</table>\n",
       "</div>"
      ],
      "text/plain": [
       "   0  1  2  3  4   5  6  7  8  9\n",
       "0  5  1  1  1  2   1  3  1  1  2\n",
       "1  5  4  4  5  7  10  3  2  1  2\n",
       "2  3  1  1  1  2   2  3  1  1  2\n",
       "3  6  8  8  1  3   4  3  7  1  2\n",
       "4  4  1  1  3  2   1  3  1  1  2"
      ]
     },
     "execution_count": 48,
     "metadata": {},
     "output_type": "execute_result"
    }
   ],
   "source": [
    "df = pd.read_csv('breast-cancer-wisconsin.csv', header = None)\n",
    "df.head()"
   ]
  },
  {
   "cell_type": "code",
   "execution_count": 49,
   "metadata": {},
   "outputs": [],
   "source": [
    "df.replace('?', np.nan, inplace = True)"
   ]
  },
  {
   "cell_type": "code",
   "execution_count": 50,
   "metadata": {},
   "outputs": [
    {
     "data": {
      "text/plain": [
       "0     0\n",
       "1     0\n",
       "2     0\n",
       "3     0\n",
       "4     0\n",
       "5    16\n",
       "6     0\n",
       "7     0\n",
       "8     0\n",
       "9     0\n",
       "dtype: int64"
      ]
     },
     "execution_count": 50,
     "metadata": {},
     "output_type": "execute_result"
    }
   ],
   "source": [
    "df.isna().sum()"
   ]
  },
  {
   "cell_type": "code",
   "execution_count": 51,
   "metadata": {},
   "outputs": [],
   "source": [
    "df = df.astype(float)"
   ]
  },
  {
   "cell_type": "code",
   "execution_count": 52,
   "metadata": {},
   "outputs": [
    {
     "data": {
      "text/plain": [
       "3.5446559297218156"
      ]
     },
     "execution_count": 52,
     "metadata": {},
     "output_type": "execute_result"
    }
   ],
   "source": [
    "df[5].mean()"
   ]
  },
  {
   "cell_type": "code",
   "execution_count": 53,
   "metadata": {},
   "outputs": [],
   "source": [
    "df = df.fillna(df.mean())"
   ]
  },
  {
   "cell_type": "code",
   "execution_count": 54,
   "metadata": {},
   "outputs": [
    {
     "data": {
      "text/plain": [
       "0    float64\n",
       "1    float64\n",
       "2    float64\n",
       "3    float64\n",
       "4    float64\n",
       "5    float64\n",
       "6    float64\n",
       "7    float64\n",
       "8    float64\n",
       "9    float64\n",
       "dtype: object"
      ]
     },
     "execution_count": 54,
     "metadata": {},
     "output_type": "execute_result"
    }
   ],
   "source": [
    "df.dtypes"
   ]
  },
  {
   "cell_type": "code",
   "execution_count": 55,
   "metadata": {},
   "outputs": [
    {
     "data": {
      "text/plain": [
       "array([ 1.        , 10.        ,  2.        ,  4.        ,  3.        ,\n",
       "        9.        ,  7.        ,  3.54465593,  5.        ,  8.        ,\n",
       "        6.        ])"
      ]
     },
     "execution_count": 55,
     "metadata": {},
     "output_type": "execute_result"
    }
   ],
   "source": [
    "df[5].unique()"
   ]
  },
  {
   "cell_type": "code",
   "execution_count": 174,
   "metadata": {},
   "outputs": [],
   "source": [
    "iter = [0 for i in range(20)]\n",
    "tpr = [0 for i in range(20)]\n",
    "fpr = [0 for i in range(20)]\n",
    "for i,alpha in enumerate(np.linspace(0,1,20)):\n",
    "    A_nochange,_,_ = no_change_cal(df,2,alpha,50)\n",
    "    A_change,_,_ = change_cal(df,2,alpha,50)\n",
    "    A_criterion = A_nochange + A_change\n",
    "    actual = [0 for i in range(50)] + [1 for i in range(50)]\n",
    "    tn, fp, fn, tp = confusion_matrix(actual,A_criterion).ravel()\n",
    "    tpr[i] = tp/(tp+fn)\n",
    "    fpr[i] = fp/(fp+tn)"
   ]
  },
  {
   "cell_type": "code",
   "execution_count": 176,
   "metadata": {},
   "outputs": [
    {
     "data": {
      "image/png": "[encoded data removed]",
      "text/plain": [
       "<Figure size 432x288 with 1 Axes>"
      ]
     },
     "metadata": {
      "needs_background": "light"
     },
     "output_type": "display_data"
    }
   ],
   "source": [
    "plt.plot(fpr,tpr)\n",
    "plt.xlabel(\"False Positive rate\")\n",
    "plt.ylabel(\"True Positive rate\")\n",
    "plt.title(\"ROC curve\")\n",
    "plt.show()"
   ]
  },
  {
   "cell_type": "markdown",
   "metadata": {},
   "source": [
    "## Satimage dataset"
   ]
  },
  {
   "cell_type": "code",
   "execution_count": 123,
   "metadata": {},
   "outputs": [
    {
     "data": {
      "text/html": [
       "<div>\n",
       "<style scoped>\n",
       "    .dataframe tbody tr th:only-of-type {\n",
       "        vertical-align: middle;\n",
       "    }\n",
       "\n",
       "    .dataframe tbody tr th {\n",
       "        vertical-align: top;\n",
       "    }\n",
       "\n",
       "    .dataframe thead th {\n",
       "        text-align: right;\n",
       "    }\n",
       "</style>\n",
       "<table border=\"1\" class=\"dataframe\">\n",
       "  <thead>\n",
       "    <tr style=\"text-align: right;\">\n",
       "      <th></th>\n",
       "      <th>Aattr</th>\n",
       "      <th>Battr</th>\n",
       "      <th>Cattr</th>\n",
       "      <th>Dattr</th>\n",
       "      <th>Eattr</th>\n",
       "      <th>Fattr</th>\n",
       "      <th>A1attr</th>\n",
       "      <th>B2attr</th>\n",
       "      <th>C3attr</th>\n",
       "      <th>D4attr</th>\n",
       "      <th>...</th>\n",
       "      <th>D22attr</th>\n",
       "      <th>E23attr</th>\n",
       "      <th>F24attr</th>\n",
       "      <th>A25attr</th>\n",
       "      <th>B26attr</th>\n",
       "      <th>C27attr</th>\n",
       "      <th>D28attr</th>\n",
       "      <th>E29attr</th>\n",
       "      <th>F30attr</th>\n",
       "      <th>class</th>\n",
       "    </tr>\n",
       "  </thead>\n",
       "  <tbody>\n",
       "    <tr>\n",
       "      <th>0</th>\n",
       "      <td>0.117596</td>\n",
       "      <td>1.241362</td>\n",
       "      <td>1.184036</td>\n",
       "      <td>0.815302</td>\n",
       "      <td>-0.158561</td>\n",
       "      <td>1.256483</td>\n",
       "      <td>1.193546</td>\n",
       "      <td>0.818486</td>\n",
       "      <td>-0.141965</td>\n",
       "      <td>0.879481</td>\n",
       "      <td>...</td>\n",
       "      <td>0.807707</td>\n",
       "      <td>-0.069968</td>\n",
       "      <td>1.219160</td>\n",
       "      <td>1.250463</td>\n",
       "      <td>0.597678</td>\n",
       "      <td>-0.054291</td>\n",
       "      <td>1.233342</td>\n",
       "      <td>1.262255</td>\n",
       "      <td>0.603258</td>\n",
       "      <td>1</td>\n",
       "    </tr>\n",
       "    <tr>\n",
       "      <th>1</th>\n",
       "      <td>-1.205362</td>\n",
       "      <td>-1.249654</td>\n",
       "      <td>-0.077532</td>\n",
       "      <td>0.444886</td>\n",
       "      <td>-0.895959</td>\n",
       "      <td>-0.447579</td>\n",
       "      <td>-0.786760</td>\n",
       "      <td>-0.554203</td>\n",
       "      <td>-0.364672</td>\n",
       "      <td>0.092157</td>\n",
       "      <td>...</td>\n",
       "      <td>-0.192752</td>\n",
       "      <td>-0.736996</td>\n",
       "      <td>-0.969292</td>\n",
       "      <td>-0.844805</td>\n",
       "      <td>-0.400030</td>\n",
       "      <td>-0.725852</td>\n",
       "      <td>-0.344432</td>\n",
       "      <td>-0.594534</td>\n",
       "      <td>-0.183967</td>\n",
       "      <td>5</td>\n",
       "    </tr>\n",
       "    <tr>\n",
       "      <th>2</th>\n",
       "      <td>0.779075</td>\n",
       "      <td>0.148811</td>\n",
       "      <td>0.042617</td>\n",
       "      <td>-0.243030</td>\n",
       "      <td>0.800057</td>\n",
       "      <td>0.164136</td>\n",
       "      <td>0.053370</td>\n",
       "      <td>-0.448612</td>\n",
       "      <td>0.154978</td>\n",
       "      <td>-0.345245</td>\n",
       "      <td>...</td>\n",
       "      <td>-0.877277</td>\n",
       "      <td>0.671174</td>\n",
       "      <td>-0.006373</td>\n",
       "      <td>-0.425752</td>\n",
       "      <td>-0.662584</td>\n",
       "      <td>0.691889</td>\n",
       "      <td>0.356801</td>\n",
       "      <td>-0.175259</td>\n",
       "      <td>-0.236449</td>\n",
       "      <td>7</td>\n",
       "    </tr>\n",
       "    <tr>\n",
       "      <th>3</th>\n",
       "      <td>1.146564</td>\n",
       "      <td>0.585831</td>\n",
       "      <td>0.342991</td>\n",
       "      <td>0.021553</td>\n",
       "      <td>0.947536</td>\n",
       "      <td>0.601074</td>\n",
       "      <td>0.353416</td>\n",
       "      <td>0.026550</td>\n",
       "      <td>1.788164</td>\n",
       "      <td>1.010702</td>\n",
       "      <td>...</td>\n",
       "      <td>0.281150</td>\n",
       "      <td>1.412317</td>\n",
       "      <td>1.044084</td>\n",
       "      <td>0.532085</td>\n",
       "      <td>0.282612</td>\n",
       "      <td>1.438068</td>\n",
       "      <td>1.058033</td>\n",
       "      <td>0.842981</td>\n",
       "      <td>0.130923</td>\n",
       "      <td>3</td>\n",
       "    </tr>\n",
       "    <tr>\n",
       "      <th>4</th>\n",
       "      <td>-0.764376</td>\n",
       "      <td>-1.162250</td>\n",
       "      <td>-0.137607</td>\n",
       "      <td>0.180303</td>\n",
       "      <td>-0.969698</td>\n",
       "      <td>-1.146681</td>\n",
       "      <td>-0.126658</td>\n",
       "      <td>0.184937</td>\n",
       "      <td>-0.735851</td>\n",
       "      <td>-1.132569</td>\n",
       "      <td>...</td>\n",
       "      <td>-0.192752</td>\n",
       "      <td>-0.885225</td>\n",
       "      <td>-1.231906</td>\n",
       "      <td>-0.784941</td>\n",
       "      <td>-0.347519</td>\n",
       "      <td>-0.875088</td>\n",
       "      <td>-1.220973</td>\n",
       "      <td>-0.774223</td>\n",
       "      <td>-0.551339</td>\n",
       "      <td>5</td>\n",
       "    </tr>\n",
       "  </tbody>\n",
       "</table>\n",
       "<p>5 rows × 37 columns</p>\n",
       "</div>"
      ],
      "text/plain": [
       "      Aattr     Battr     Cattr     Dattr     Eattr     Fattr    A1attr  \\\n",
       "0  0.117596  1.241362  1.184036  0.815302 -0.158561  1.256483  1.193546   \n",
       "1 -1.205362 -1.249654 -0.077532  0.444886 -0.895959 -0.447579 -0.786760   \n",
       "2  0.779075  0.148811  0.042617 -0.243030  0.800057  0.164136  0.053370   \n",
       "3  1.146564  0.585831  0.342991  0.021553  0.947536  0.601074  0.353416   \n",
       "4 -0.764376 -1.162250 -0.137607  0.180303 -0.969698 -1.146681 -0.126658   \n",
       "\n",
       "     B2attr    C3attr    D4attr  ...   D22attr   E23attr   F24attr   A25attr  \\\n",
       "0  0.818486 -0.141965  0.879481  ...  0.807707 -0.069968  1.219160  1.250463   \n",
       "1 -0.554203 -0.364672  0.092157  ... -0.192752 -0.736996 -0.969292 -0.844805   \n",
       "2 -0.448612  0.154978 -0.345245  ... -0.877277  0.671174 -0.006373 -0.425752   \n",
       "3  0.026550  1.788164  1.010702  ...  0.281150  1.412317  1.044084  0.532085   \n",
       "4  0.184937 -0.735851 -1.132569  ... -0.192752 -0.885225 -1.231906 -0.784941   \n",
       "\n",
       "    B26attr   C27attr   D28attr   E29attr   F30attr  class  \n",
       "0  0.597678 -0.054291  1.233342  1.262255  0.603258      1  \n",
       "1 -0.400030 -0.725852 -0.344432 -0.594534 -0.183967      5  \n",
       "2 -0.662584  0.691889  0.356801 -0.175259 -0.236449      7  \n",
       "3  0.282612  1.438068  1.058033  0.842981  0.130923      3  \n",
       "4 -0.347519 -0.875088 -1.220973 -0.774223 -0.551339      5  \n",
       "\n",
       "[5 rows x 37 columns]"
      ]
     },
     "execution_count": 123,
     "metadata": {},
     "output_type": "execute_result"
    }
   ],
   "source": [
    "df = pd.read_csv('satimage_csv.csv')\n",
    "df.head()"
   ]
  },
  {
   "cell_type": "code",
   "execution_count": 134,
   "metadata": {},
   "outputs": [],
   "source": [
    "iter = [0 for i in range(20)]\n",
    "tpr = [0 for i in range(20)]\n",
    "fpr = [0 for i in range(20)]\n",
    "for i,alpha in enumerate(np.linspace(0,1,20)):\n",
    "    A_nochange,_,_ = no_change_cal(df,2,alpha,50)\n",
    "    A_change,_,_ = change_cal(df,2,alpha,50)\n",
    "    A_criterion = A_nochange + A_change\n",
    "    actual = [0 for i in range(50)] + [1 for i in range(50)]\n",
    "    tn, fp, fn, tp = confusion_matrix(actual,A_criterion).ravel()\n",
    "    tpr[i] = tp/(tp+fn)\n",
    "    fpr[i] = fp/(fp+tn)"
   ]
  },
  {
   "cell_type": "code",
   "execution_count": 135,
   "metadata": {},
   "outputs": [
    {
     "data": {
      "image/png": "[encoded data removed]",
      "text/plain": [
       "<Figure size 432x288 with 1 Axes>"
      ]
     },
     "metadata": {
      "needs_background": "light"
     },
     "output_type": "display_data"
    }
   ],
   "source": [
    "plt.plot(fpr,tpr)\n",
    "plt.xlabel(\"False Positive rate\")\n",
    "plt.ylabel(\"True Positive rate\")\n",
    "plt.title(\"ROC curve\")\n",
    "plt.show()"
   ]
  },
  {
   "cell_type": "markdown",
   "metadata": {},
   "source": [
    "# For K = 3"
   ]
  },
  {
   "cell_type": "markdown",
   "metadata": {},
   "source": [
    "## Shuttle dataset"
   ]
  },
  {
   "cell_type": "code",
   "execution_count": 177,
   "metadata": {},
   "outputs": [
    {
     "data": {
      "text/html": [
       "<div>\n",
       "<style scoped>\n",
       "    .dataframe tbody tr th:only-of-type {\n",
       "        vertical-align: middle;\n",
       "    }\n",
       "\n",
       "    .dataframe tbody tr th {\n",
       "        vertical-align: top;\n",
       "    }\n",
       "\n",
       "    .dataframe thead th {\n",
       "        text-align: right;\n",
       "    }\n",
       "</style>\n",
       "<table border=\"1\" class=\"dataframe\">\n",
       "  <thead>\n",
       "    <tr style=\"text-align: right;\">\n",
       "      <th></th>\n",
       "      <th>0</th>\n",
       "      <th>1</th>\n",
       "      <th>2</th>\n",
       "      <th>3</th>\n",
       "      <th>4</th>\n",
       "      <th>5</th>\n",
       "      <th>6</th>\n",
       "      <th>7</th>\n",
       "      <th>8</th>\n",
       "      <th>9</th>\n",
       "    </tr>\n",
       "  </thead>\n",
       "  <tbody>\n",
       "    <tr>\n",
       "      <th>0</th>\n",
       "      <td>55</td>\n",
       "      <td>0</td>\n",
       "      <td>81</td>\n",
       "      <td>0</td>\n",
       "      <td>-6</td>\n",
       "      <td>11</td>\n",
       "      <td>25</td>\n",
       "      <td>88</td>\n",
       "      <td>64</td>\n",
       "      <td>4</td>\n",
       "    </tr>\n",
       "    <tr>\n",
       "      <th>1</th>\n",
       "      <td>56</td>\n",
       "      <td>0</td>\n",
       "      <td>96</td>\n",
       "      <td>0</td>\n",
       "      <td>52</td>\n",
       "      <td>-4</td>\n",
       "      <td>40</td>\n",
       "      <td>44</td>\n",
       "      <td>4</td>\n",
       "      <td>4</td>\n",
       "    </tr>\n",
       "    <tr>\n",
       "      <th>2</th>\n",
       "      <td>50</td>\n",
       "      <td>-1</td>\n",
       "      <td>89</td>\n",
       "      <td>-7</td>\n",
       "      <td>50</td>\n",
       "      <td>0</td>\n",
       "      <td>39</td>\n",
       "      <td>40</td>\n",
       "      <td>2</td>\n",
       "      <td>1</td>\n",
       "    </tr>\n",
       "    <tr>\n",
       "      <th>3</th>\n",
       "      <td>53</td>\n",
       "      <td>9</td>\n",
       "      <td>79</td>\n",
       "      <td>0</td>\n",
       "      <td>42</td>\n",
       "      <td>-2</td>\n",
       "      <td>25</td>\n",
       "      <td>37</td>\n",
       "      <td>12</td>\n",
       "      <td>4</td>\n",
       "    </tr>\n",
       "    <tr>\n",
       "      <th>4</th>\n",
       "      <td>55</td>\n",
       "      <td>2</td>\n",
       "      <td>82</td>\n",
       "      <td>0</td>\n",
       "      <td>54</td>\n",
       "      <td>-6</td>\n",
       "      <td>26</td>\n",
       "      <td>28</td>\n",
       "      <td>2</td>\n",
       "      <td>1</td>\n",
       "    </tr>\n",
       "  </tbody>\n",
       "</table>\n",
       "</div>"
      ],
      "text/plain": [
       "    0  1   2  3   4   5   6   7   8  9\n",
       "0  55  0  81  0  -6  11  25  88  64  4\n",
       "1  56  0  96  0  52  -4  40  44   4  4\n",
       "2  50 -1  89 -7  50   0  39  40   2  1\n",
       "3  53  9  79  0  42  -2  25  37  12  4\n",
       "4  55  2  82  0  54  -6  26  28   2  1"
      ]
     },
     "execution_count": 177,
     "metadata": {},
     "output_type": "execute_result"
    }
   ],
   "source": [
    "df = pd.read_csv('shuttle.csv', header = None)\n",
    "df.head()"
   ]
  },
  {
   "cell_type": "code",
   "execution_count": 180,
   "metadata": {},
   "outputs": [],
   "source": [
    "iter = [0 for i in range(20)]\n",
    "tpr = [0 for i in range(20)]\n",
    "fpr = [0 for i in range(20)]\n",
    "for i,alpha in enumerate(np.linspace(0,1,20)):\n",
    "    A_nochange,_,_ = no_change_cal(df,3,alpha,50)\n",
    "    A_change,_,_ = change_cal(df,3,alpha,50)\n",
    "    A_criterion = A_nochange + A_change\n",
    "    actual = [0 for i in range(50)] + [1 for i in range(50)]\n",
    "    tn, fp, fn, tp = confusion_matrix(actual,A_criterion).ravel()\n",
    "    tpr[i] = tp/(tp+fn)\n",
    "    fpr[i] = fp/(fp+tn)"
   ]
  },
  {
   "cell_type": "code",
   "execution_count": 182,
   "metadata": {},
   "outputs": [
    {
     "data": {
      "image/png": "[encoded data removed]",
      "text/plain": [
       "<Figure size 432x288 with 1 Axes>"
      ]
     },
     "metadata": {
      "needs_background": "light"
     },
     "output_type": "display_data"
    }
   ],
   "source": [
    "plt.plot(fpr,tpr)\n",
    "plt.xlabel(\"False Positive rate\")\n",
    "plt.ylabel(\"True Positive rate\")\n",
    "plt.title(\"ROC curve\")\n",
    "plt.show()"
   ]
  },
  {
   "cell_type": "markdown",
   "metadata": {},
   "source": [
    "## WBC  dataset"
   ]
  },
  {
   "cell_type": "code",
   "execution_count": 183,
   "metadata": {},
   "outputs": [
    {
     "data": {
      "text/html": [
       "<div>\n",
       "<style scoped>\n",
       "    .dataframe tbody tr th:only-of-type {\n",
       "        vertical-align: middle;\n",
       "    }\n",
       "\n",
       "    .dataframe tbody tr th {\n",
       "        vertical-align: top;\n",
       "    }\n",
       "\n",
       "    .dataframe thead th {\n",
       "        text-align: right;\n",
       "    }\n",
       "</style>\n",
       "<table border=\"1\" class=\"dataframe\">\n",
       "  <thead>\n",
       "    <tr style=\"text-align: right;\">\n",
       "      <th></th>\n",
       "      <th>0</th>\n",
       "      <th>1</th>\n",
       "      <th>2</th>\n",
       "      <th>3</th>\n",
       "      <th>4</th>\n",
       "      <th>5</th>\n",
       "      <th>6</th>\n",
       "      <th>7</th>\n",
       "      <th>8</th>\n",
       "      <th>9</th>\n",
       "    </tr>\n",
       "  </thead>\n",
       "  <tbody>\n",
       "    <tr>\n",
       "      <th>0</th>\n",
       "      <td>5</td>\n",
       "      <td>1</td>\n",
       "      <td>1</td>\n",
       "      <td>1</td>\n",
       "      <td>2</td>\n",
       "      <td>1</td>\n",
       "      <td>3</td>\n",
       "      <td>1</td>\n",
       "      <td>1</td>\n",
       "      <td>2</td>\n",
       "    </tr>\n",
       "    <tr>\n",
       "      <th>1</th>\n",
       "      <td>5</td>\n",
       "      <td>4</td>\n",
       "      <td>4</td>\n",
       "      <td>5</td>\n",
       "      <td>7</td>\n",
       "      <td>10</td>\n",
       "      <td>3</td>\n",
       "      <td>2</td>\n",
       "      <td>1</td>\n",
       "      <td>2</td>\n",
       "    </tr>\n",
       "    <tr>\n",
       "      <th>2</th>\n",
       "      <td>3</td>\n",
       "      <td>1</td>\n",
       "      <td>1</td>\n",
       "      <td>1</td>\n",
       "      <td>2</td>\n",
       "      <td>2</td>\n",
       "      <td>3</td>\n",
       "      <td>1</td>\n",
       "      <td>1</td>\n",
       "      <td>2</td>\n",
       "    </tr>\n",
       "    <tr>\n",
       "      <th>3</th>\n",
       "      <td>6</td>\n",
       "      <td>8</td>\n",
       "      <td>8</td>\n",
       "      <td>1</td>\n",
       "      <td>3</td>\n",
       "      <td>4</td>\n",
       "      <td>3</td>\n",
       "      <td>7</td>\n",
       "      <td>1</td>\n",
       "      <td>2</td>\n",
       "    </tr>\n",
       "    <tr>\n",
       "      <th>4</th>\n",
       "      <td>4</td>\n",
       "      <td>1</td>\n",
       "      <td>1</td>\n",
       "      <td>3</td>\n",
       "      <td>2</td>\n",
       "      <td>1</td>\n",
       "      <td>3</td>\n",
       "      <td>1</td>\n",
       "      <td>1</td>\n",
       "      <td>2</td>\n",
       "    </tr>\n",
       "  </tbody>\n",
       "</table>\n",
       "</div>"
      ],
      "text/plain": [
       "   0  1  2  3  4   5  6  7  8  9\n",
       "0  5  1  1  1  2   1  3  1  1  2\n",
       "1  5  4  4  5  7  10  3  2  1  2\n",
       "2  3  1  1  1  2   2  3  1  1  2\n",
       "3  6  8  8  1  3   4  3  7  1  2\n",
       "4  4  1  1  3  2   1  3  1  1  2"
      ]
     },
     "execution_count": 183,
     "metadata": {},
     "output_type": "execute_result"
    }
   ],
   "source": [
    "df = pd.read_csv('breast-cancer-wisconsin.csv', header = None)\n",
    "df.head()"
   ]
  },
  {
   "cell_type": "code",
   "execution_count": 184,
   "metadata": {},
   "outputs": [],
   "source": [
    "df.replace('?', np.nan, inplace = True)"
   ]
  },
  {
   "cell_type": "code",
   "execution_count": 185,
   "metadata": {},
   "outputs": [
    {
     "data": {
      "text/plain": [
       "0     0\n",
       "1     0\n",
       "2     0\n",
       "3     0\n",
       "4     0\n",
       "5    16\n",
       "6     0\n",
       "7     0\n",
       "8     0\n",
       "9     0\n",
       "dtype: int64"
      ]
     },
     "execution_count": 185,
     "metadata": {},
     "output_type": "execute_result"
    }
   ],
   "source": [
    "df.isna().sum()"
   ]
  },
  {
   "cell_type": "code",
   "execution_count": 186,
   "metadata": {},
   "outputs": [],
   "source": [
    "df = df.astype(float)"
   ]
  },
  {
   "cell_type": "code",
   "execution_count": 187,
   "metadata": {},
   "outputs": [
    {
     "data": {
      "text/plain": [
       "3.5446559297218156"
      ]
     },
     "execution_count": 187,
     "metadata": {},
     "output_type": "execute_result"
    }
   ],
   "source": [
    "df[5].mean()"
   ]
  },
  {
   "cell_type": "code",
   "execution_count": 188,
   "metadata": {},
   "outputs": [],
   "source": [
    "df = df.fillna(df.mean())"
   ]
  },
  {
   "cell_type": "code",
   "execution_count": 189,
   "metadata": {},
   "outputs": [
    {
     "data": {
      "text/plain": [
       "0    float64\n",
       "1    float64\n",
       "2    float64\n",
       "3    float64\n",
       "4    float64\n",
       "5    float64\n",
       "6    float64\n",
       "7    float64\n",
       "8    float64\n",
       "9    float64\n",
       "dtype: object"
      ]
     },
     "execution_count": 189,
     "metadata": {},
     "output_type": "execute_result"
    }
   ],
   "source": [
    "df.dtypes"
   ]
  },
  {
   "cell_type": "code",
   "execution_count": 190,
   "metadata": {},
   "outputs": [
    {
     "data": {
      "text/plain": [
       "array([ 1.        , 10.        ,  2.        ,  4.        ,  3.        ,\n",
       "        9.        ,  7.        ,  3.54465593,  5.        ,  8.        ,\n",
       "        6.        ])"
      ]
     },
     "execution_count": 190,
     "metadata": {},
     "output_type": "execute_result"
    }
   ],
   "source": [
    "df[5].unique()"
   ]
  },
  {
   "cell_type": "code",
   "execution_count": 191,
   "metadata": {},
   "outputs": [],
   "source": [
    "iter = [0 for i in range(20)]\n",
    "tpr = [0 for i in range(20)]\n",
    "fpr = [0 for i in range(20)]\n",
    "for i,alpha in enumerate(np.linspace(0,1,20)):\n",
    "    A_nochange,_,_ = no_change_cal(df,3,alpha,50)\n",
    "    A_change,_,_ = change_cal(df,3,alpha,50)\n",
    "    A_criterion = A_nochange + A_change\n",
    "    actual = [0 for i in range(50)] + [1 for i in range(50)]\n",
    "    tn, fp, fn, tp = confusion_matrix(actual,A_criterion).ravel()\n",
    "    tpr[i] = tp/(tp+fn)\n",
    "    fpr[i] = fp/(fp+tn)"
   ]
  },
  {
   "cell_type": "code",
   "execution_count": 192,
   "metadata": {},
   "outputs": [
    {
     "data": {
      "image/png": "[encoded data removed]",
      "text/plain": [
       "<Figure size 432x288 with 1 Axes>"
      ]
     },
     "metadata": {
      "needs_background": "light"
     },
     "output_type": "display_data"
    }
   ],
   "source": [
    "plt.plot(fpr,tpr)\n",
    "plt.xlabel(\"False Positive rate\")\n",
    "plt.ylabel(\"True Positive rate\")\n",
    "plt.title(\"ROC curve\")\n",
    "plt.show()"
   ]
  },
  {
   "cell_type": "markdown",
   "metadata": {},
   "source": [
    "## Satimage dataset"
   ]
  },
  {
   "cell_type": "code",
   "execution_count": 193,
   "metadata": {},
   "outputs": [
    {
     "data": {
      "text/html": [
       "<div>\n",
       "<style scoped>\n",
       "    .dataframe tbody tr th:only-of-type {\n",
       "        vertical-align: middle;\n",
       "    }\n",
       "\n",
       "    .dataframe tbody tr th {\n",
       "        vertical-align: top;\n",
       "    }\n",
       "\n",
       "    .dataframe thead th {\n",
       "        text-align: right;\n",
       "    }\n",
       "</style>\n",
       "<table border=\"1\" class=\"dataframe\">\n",
       "  <thead>\n",
       "    <tr style=\"text-align: right;\">\n",
       "      <th></th>\n",
       "      <th>Aattr</th>\n",
       "      <th>Battr</th>\n",
       "      <th>Cattr</th>\n",
       "      <th>Dattr</th>\n",
       "      <th>Eattr</th>\n",
       "      <th>Fattr</th>\n",
       "      <th>A1attr</th>\n",
       "      <th>B2attr</th>\n",
       "      <th>C3attr</th>\n",
       "      <th>D4attr</th>\n",
       "      <th>...</th>\n",
       "      <th>D22attr</th>\n",
       "      <th>E23attr</th>\n",
       "      <th>F24attr</th>\n",
       "      <th>A25attr</th>\n",
       "      <th>B26attr</th>\n",
       "      <th>C27attr</th>\n",
       "      <th>D28attr</th>\n",
       "      <th>E29attr</th>\n",
       "      <th>F30attr</th>\n",
       "      <th>class</th>\n",
       "    </tr>\n",
       "  </thead>\n",
       "  <tbody>\n",
       "    <tr>\n",
       "      <th>0</th>\n",
       "      <td>0.117596</td>\n",
       "      <td>1.241362</td>\n",
       "      <td>1.184036</td>\n",
       "      <td>0.815302</td>\n",
       "      <td>-0.158561</td>\n",
       "      <td>1.256483</td>\n",
       "      <td>1.193546</td>\n",
       "      <td>0.818486</td>\n",
       "      <td>-0.141965</td>\n",
       "      <td>0.879481</td>\n",
       "      <td>...</td>\n",
       "      <td>0.807707</td>\n",
       "      <td>-0.069968</td>\n",
       "      <td>1.219160</td>\n",
       "      <td>1.250463</td>\n",
       "      <td>0.597678</td>\n",
       "      <td>-0.054291</td>\n",
       "      <td>1.233342</td>\n",
       "      <td>1.262255</td>\n",
       "      <td>0.603258</td>\n",
       "      <td>1</td>\n",
       "    </tr>\n",
       "    <tr>\n",
       "      <th>1</th>\n",
       "      <td>-1.205362</td>\n",
       "      <td>-1.249654</td>\n",
       "      <td>-0.077532</td>\n",
       "      <td>0.444886</td>\n",
       "      <td>-0.895959</td>\n",
       "      <td>-0.447579</td>\n",
       "      <td>-0.786760</td>\n",
       "      <td>-0.554203</td>\n",
       "      <td>-0.364672</td>\n",
       "      <td>0.092157</td>\n",
       "      <td>...</td>\n",
       "      <td>-0.192752</td>\n",
       "      <td>-0.736996</td>\n",
       "      <td>-0.969292</td>\n",
       "      <td>-0.844805</td>\n",
       "      <td>-0.400030</td>\n",
       "      <td>-0.725852</td>\n",
       "      <td>-0.344432</td>\n",
       "      <td>-0.594534</td>\n",
       "      <td>-0.183967</td>\n",
       "      <td>5</td>\n",
       "    </tr>\n",
       "    <tr>\n",
       "      <th>2</th>\n",
       "      <td>0.779075</td>\n",
       "      <td>0.148811</td>\n",
       "      <td>0.042617</td>\n",
       "      <td>-0.243030</td>\n",
       "      <td>0.800057</td>\n",
       "      <td>0.164136</td>\n",
       "      <td>0.053370</td>\n",
       "      <td>-0.448612</td>\n",
       "      <td>0.154978</td>\n",
       "      <td>-0.345245</td>\n",
       "      <td>...</td>\n",
       "      <td>-0.877277</td>\n",
       "      <td>0.671174</td>\n",
       "      <td>-0.006373</td>\n",
       "      <td>-0.425752</td>\n",
       "      <td>-0.662584</td>\n",
       "      <td>0.691889</td>\n",
       "      <td>0.356801</td>\n",
       "      <td>-0.175259</td>\n",
       "      <td>-0.236449</td>\n",
       "      <td>7</td>\n",
       "    </tr>\n",
       "    <tr>\n",
       "      <th>3</th>\n",
       "      <td>1.146564</td>\n",
       "      <td>0.585831</td>\n",
       "      <td>0.342991</td>\n",
       "      <td>0.021553</td>\n",
       "      <td>0.947536</td>\n",
       "      <td>0.601074</td>\n",
       "      <td>0.353416</td>\n",
       "      <td>0.026550</td>\n",
       "      <td>1.788164</td>\n",
       "      <td>1.010702</td>\n",
       "      <td>...</td>\n",
       "      <td>0.281150</td>\n",
       "      <td>1.412317</td>\n",
       "      <td>1.044084</td>\n",
       "      <td>0.532085</td>\n",
       "      <td>0.282612</td>\n",
       "      <td>1.438068</td>\n",
       "      <td>1.058033</td>\n",
       "      <td>0.842981</td>\n",
       "      <td>0.130923</td>\n",
       "      <td>3</td>\n",
       "    </tr>\n",
       "    <tr>\n",
       "      <th>4</th>\n",
       "      <td>-0.764376</td>\n",
       "      <td>-1.162250</td>\n",
       "      <td>-0.137607</td>\n",
       "      <td>0.180303</td>\n",
       "      <td>-0.969698</td>\n",
       "      <td>-1.146681</td>\n",
       "      <td>-0.126658</td>\n",
       "      <td>0.184937</td>\n",
       "      <td>-0.735851</td>\n",
       "      <td>-1.132569</td>\n",
       "      <td>...</td>\n",
       "      <td>-0.192752</td>\n",
       "      <td>-0.885225</td>\n",
       "      <td>-1.231906</td>\n",
       "      <td>-0.784941</td>\n",
       "      <td>-0.347519</td>\n",
       "      <td>-0.875088</td>\n",
       "      <td>-1.220973</td>\n",
       "      <td>-0.774223</td>\n",
       "      <td>-0.551339</td>\n",
       "      <td>5</td>\n",
       "    </tr>\n",
       "  </tbody>\n",
       "</table>\n",
       "<p>5 rows × 37 columns</p>\n",
       "</div>"
      ],
      "text/plain": [
       "      Aattr     Battr     Cattr     Dattr     Eattr     Fattr    A1attr  \\\n",
       "0  0.117596  1.241362  1.184036  0.815302 -0.158561  1.256483  1.193546   \n",
       "1 -1.205362 -1.249654 -0.077532  0.444886 -0.895959 -0.447579 -0.786760   \n",
       "2  0.779075  0.148811  0.042617 -0.243030  0.800057  0.164136  0.053370   \n",
       "3  1.146564  0.585831  0.342991  0.021553  0.947536  0.601074  0.353416   \n",
       "4 -0.764376 -1.162250 -0.137607  0.180303 -0.969698 -1.146681 -0.126658   \n",
       "\n",
       "     B2attr    C3attr    D4attr  ...   D22attr   E23attr   F24attr   A25attr  \\\n",
       "0  0.818486 -0.141965  0.879481  ...  0.807707 -0.069968  1.219160  1.250463   \n",
       "1 -0.554203 -0.364672  0.092157  ... -0.192752 -0.736996 -0.969292 -0.844805   \n",
       "2 -0.448612  0.154978 -0.345245  ... -0.877277  0.671174 -0.006373 -0.425752   \n",
       "3  0.026550  1.788164  1.010702  ...  0.281150  1.412317  1.044084  0.532085   \n",
       "4  0.184937 -0.735851 -1.132569  ... -0.192752 -0.885225 -1.231906 -0.784941   \n",
       "\n",
       "    B26attr   C27attr   D28attr   E29attr   F30attr  class  \n",
       "0  0.597678 -0.054291  1.233342  1.262255  0.603258      1  \n",
       "1 -0.400030 -0.725852 -0.344432 -0.594534 -0.183967      5  \n",
       "2 -0.662584  0.691889  0.356801 -0.175259 -0.236449      7  \n",
       "3  0.282612  1.438068  1.058033  0.842981  0.130923      3  \n",
       "4 -0.347519 -0.875088 -1.220973 -0.774223 -0.551339      5  \n",
       "\n",
       "[5 rows x 37 columns]"
      ]
     },
     "execution_count": 193,
     "metadata": {},
     "output_type": "execute_result"
    }
   ],
   "source": [
    "df = pd.read_csv('satimage_csv.csv')\n",
    "df.head()"
   ]
  },
  {
   "cell_type": "code",
   "execution_count": 196,
   "metadata": {},
   "outputs": [],
   "source": [
    "tpr = [0 for i in range(20)]\n",
    "fpr = [0 for i in range(20)]\n",
    "for i,alpha in enumerate(np.linspace(0,1,20)):\n",
    "    A_nochange,_,_ = no_change_cal(df,3,alpha,50)\n",
    "    A_change,_,_ = change_cal(df,3,alpha,50)\n",
    "    A_criterion = A_nochange + A_change\n",
    "    actual = [0 for i in range(50)] + [1 for i in range(50)]\n",
    "    tn, fp, fn, tp = confusion_matrix(actual,A_criterion).ravel()\n",
    "    tpr[i] = tp/(tp+fn)\n",
    "    fpr[i] = fp/(fp+tn)"
   ]
  },
  {
   "cell_type": "code",
   "execution_count": 197,
   "metadata": {},
   "outputs": [
    {
     "data": {
      "image/png": "[encoded data removed]",
      "text/plain": [
       "<Figure size 432x288 with 1 Axes>"
      ]
     },
     "metadata": {
      "needs_background": "light"
     },
     "output_type": "display_data"
    }
   ],
   "source": [
    "plt.plot(fpr,tpr)\n",
    "plt.xlabel(\"False Positive rate\")\n",
    "plt.ylabel(\"True Positive rate\")\n",
    "plt.title(\"ROC curve\")\n",
    "plt.show()"
   ]
  },
  {
   "cell_type": "code",
   "execution_count": null,
   "metadata": {},
   "outputs": [],
   "source": []
  }
 ],
 "metadata": {
  "kernelspec": {
   "display_name": "Python 3",
   "language": "python",
   "name": "python3"
  },
  "language_info": {
   "codemirror_mode": {
    "name": "ipython",
    "version": 3
   },
   "file_extension": ".py",
   "mimetype": "text/x-python",
   "name": "python",
   "nbconvert_exporter": "python",
   "pygments_lexer": "ipython3",
   "version": "3.8.3"
  }
 },
 "nbformat": 4,
 "nbformat_minor": 4
}
