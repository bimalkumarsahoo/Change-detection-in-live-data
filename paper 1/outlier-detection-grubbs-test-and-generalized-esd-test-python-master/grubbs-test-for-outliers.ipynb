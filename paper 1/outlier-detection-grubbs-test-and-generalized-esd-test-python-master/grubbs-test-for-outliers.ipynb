{
 "cells": [
  {
   "cell_type": "code",
   "execution_count": 0,
   "metadata": {
    "colab": {},
    "colab_type": "code",
    "id": "XbTdAekt0ksS"
   },
   "outputs": [],
   "source": [
    "import matplotlib.pyplot as plt\n",
    "import numpy as np\n",
    "import pandas as pd\n",
    "import scipy.stats as stats"
   ]
  },
  {
   "cell_type": "code",
   "execution_count": 0,
   "metadata": {
    "colab": {},
    "colab_type": "code",
    "id": "-TMK59KE5HEq"
   },
   "outputs": [],
   "source": [
    "%matplotlib inline"
   ]
  },
  {
   "cell_type": "code",
   "execution_count": 0,
   "metadata": {
    "colab": {},
    "colab_type": "code",
    "id": "D8SdDGY_1C4e"
   },
   "outputs": [],
   "source": [
    "y = np.array([199.31, 199.53, 200.19, 200.82, 201.92, 201.95, 202.18, 245.57])\n",
    "x = np.arange(len(y))"
   ]
  },
  {
   "cell_type": "code",
   "execution_count": 0,
   "metadata": {
    "colab": {
     "base_uri": "https://localhost:8080/",
     "height": 286
    },
    "colab_type": "code",
    "executionInfo": {
     "elapsed": 1056,
     "status": "ok",
     "timestamp": 1566017109405,
     "user": {
      "displayName": "Bhavesh Bhatt",
      "photoUrl": "https://lh5.googleusercontent.com/-Dxy3HXzth_c/AAAAAAAAAAI/AAAAAAAAHvk/4kcnA5cyAC4/s64/photo.jpg",
      "userId": "01561702845917398436"
     },
     "user_tz": -330
    },
    "id": "w0Epcsq14tY0",
    "outputId": "ed04fed1-7b6e-440f-f2f7-5c3dd86c6030"
   },
   "outputs": [
    {
     "data": {
      "text/plain": [
       "<matplotlib.collections.PathCollection at 0x7f4202948898>"
      ]
     },
     "execution_count": 33,
     "metadata": {
      "tags": []
     },
     "output_type": "execute_result"
    },
    {
     "data": {
      "image/png": "[encoded data removed]",
      "text/plain": [
       "<Figure size 432x288 with 1 Axes>"
      ]
     },
     "metadata": {
      "tags": []
     },
     "output_type": "display_data"
    }
   ],
   "source": [
    "plt.scatter(x,y)"
   ]
  },
  {
   "cell_type": "markdown",
   "metadata": {
    "colab_type": "text",
    "id": "pfNHSVyH6Opr"
   },
   "source": [
    "<center> <H1> Grubb's Test for Outlier Detection </H1> </center>"
   ]
  },
  {
   "cell_type": "markdown",
   "metadata": {
    "colab_type": "text",
    "id": "tCR6y1iA5YD_"
   },
   "source": [
    "\\begin{equation}\n",
    "\\begin{array}{l}{\\text { Grubbs' test is defined for the hypothesis: }} \\\\ {\\begin{array}{ll}{\\text { Ho: }} & {\\text { There are no outliers in the data set }} \\\\ {\\mathrm{H}_{\\mathrm{a}} :} & {\\text { There is exactly one outlier in the data set }}\\end{array}}\\end{array}\n",
    "\\end{equation}"
   ]
  },
  {
   "cell_type": "markdown",
   "metadata": {
    "colab_type": "text",
    "id": "L2nvaYbq56nt"
   },
   "source": [
    "\\begin{equation}\n",
    "\\begin{array}{l}{\\text {The Grubbs' test statistic is defined as: }} \\\\ {\\qquad G_{calculated}=\\frac{\\max \\left|Y_{i}-\\overline{Y}\\right|}{s}} \\\\ {\\text { with } \\overline{Y} \\text { and } s \\text { denoting the sample mean and standard deviation, respectively. The }} \\\\ {\\text { Grubbs' test statistic is the largest absolute deviation from the sample mean in units of }} \\\\ {\\text { the sample standard deviation. }}\\end{array}\n",
    "\\end{equation}"
   ]
  },
  {
   "cell_type": "markdown",
   "metadata": {
    "colab_type": "text",
    "id": "p3htEX-b4LQw"
   },
   "source": [
    "\\begin{equation}\n",
    "G_{critical}=\\frac{(N-1)}{\\sqrt{N}} \\sqrt{\\frac{\\left(t_{\\alpha /(2 N), N-2}\\right)^{2}}{N-2+\\left(t_{\\alpha /(2 N), N-2}\\right)^{2}}}\n",
    "\\end{equation}"
   ]
  },
  {
   "cell_type": "markdown",
   "metadata": {
    "colab_type": "text",
    "id": "bEYQV13O-M_L"
   },
   "source": [
    "<center> <H1> Let's start with the Critical Value Calculation </H1> </center>"
   ]
  },
  {
   "cell_type": "markdown",
   "metadata": {
    "colab_type": "text",
    "id": "EZKWFzu37Zxv"
   },
   "source": [
    "\\begin{equation}\n",
    "\\begin{array}{l}\\\\ {\\qquad G_{calculated}=\\frac{\\max \\left|Y_{i}-\\overline{Y}\\right|}{s}}\\end{array} \\end{equation}"
   ]
  },
  {
   "cell_type": "code",
   "execution_count": 0,
   "metadata": {
    "colab": {
     "base_uri": "https://localhost:8080/",
     "height": 34
    },
    "colab_type": "code",
    "executionInfo": {
     "elapsed": 739,
     "status": "ok",
     "timestamp": 1566017812833,
     "user": {
      "displayName": "Bhavesh Bhatt",
      "photoUrl": "https://lh5.googleusercontent.com/-Dxy3HXzth_c/AAAAAAAAAAI/AAAAAAAAHvk/4kcnA5cyAC4/s64/photo.jpg",
      "userId": "01561702845917398436"
     },
     "user_tz": -330
    },
    "id": "SEhAuA697APL",
    "outputId": "5e4d97c1-818b-4b46-9704-3bf2259ed083"
   },
   "outputs": [
    {
     "name": "stdout",
     "output_type": "stream",
     "text": [
      "206.43375\n"
     ]
    }
   ],
   "source": [
    "avg_y = np.mean(y)\n",
    "print (avg_y)"
   ]
  },
  {
   "cell_type": "code",
   "execution_count": 0,
   "metadata": {
    "colab": {
     "base_uri": "https://localhost:8080/",
     "height": 34
    },
    "colab_type": "code",
    "executionInfo": {
     "elapsed": 958,
     "status": "ok",
     "timestamp": 1566017863399,
     "user": {
      "displayName": "Bhavesh Bhatt",
      "photoUrl": "https://lh5.googleusercontent.com/-Dxy3HXzth_c/AAAAAAAAAAI/AAAAAAAAHvk/4kcnA5cyAC4/s64/photo.jpg",
      "userId": "01561702845917398436"
     },
     "user_tz": -330
    },
    "id": "gwmeGIBF7AUV",
    "outputId": "6848a82e-53ac-413d-89f6-e9b68f50754c"
   },
   "outputs": [
    {
     "name": "stdout",
     "output_type": "stream",
     "text": [
      "[ 7.12375  6.90375  6.24375  5.61375  4.51375  4.48375  4.25375 39.13625]\n"
     ]
    }
   ],
   "source": [
    "abs_val_minus_avg = abs(y - avg_y)\n",
    "print (abs_val_minus_avg)"
   ]
  },
  {
   "cell_type": "code",
   "execution_count": 0,
   "metadata": {
    "colab": {
     "base_uri": "https://localhost:8080/",
     "height": 34
    },
    "colab_type": "code",
    "executionInfo": {
     "elapsed": 933,
     "status": "ok",
     "timestamp": 1566017959443,
     "user": {
      "displayName": "Bhavesh Bhatt",
      "photoUrl": "https://lh5.googleusercontent.com/-Dxy3HXzth_c/AAAAAAAAAAI/AAAAAAAAHvk/4kcnA5cyAC4/s64/photo.jpg",
      "userId": "01561702845917398436"
     },
     "user_tz": -330
    },
    "id": "eWNOC_kS8ULT",
    "outputId": "a33b7469-fdd3-4575-9c42-535a85a466f6"
   },
   "outputs": [
    {
     "name": "stdout",
     "output_type": "stream",
     "text": [
      "39.13624999999999\n"
     ]
    }
   ],
   "source": [
    "max_of_deviations = max(abs_val_minus_avg)\n",
    "print (max_of_deviations)"
   ]
  },
  {
   "cell_type": "code",
   "execution_count": 0,
   "metadata": {
    "colab": {
     "base_uri": "https://localhost:8080/",
     "height": 34
    },
    "colab_type": "code",
    "executionInfo": {
     "elapsed": 790,
     "status": "ok",
     "timestamp": 1566017964143,
     "user": {
      "displayName": "Bhavesh Bhatt",
      "photoUrl": "https://lh5.googleusercontent.com/-Dxy3HXzth_c/AAAAAAAAAAI/AAAAAAAAHvk/4kcnA5cyAC4/s64/photo.jpg",
      "userId": "01561702845917398436"
     },
     "user_tz": -330
    },
    "id": "sH_zTYkp7Ag1",
    "outputId": "3fc8bb11-1232-475b-f0f7-6085c13cbc6b"
   },
   "outputs": [
    {
     "name": "stdout",
     "output_type": "stream",
     "text": [
      "14.828716176308047\n"
     ]
    }
   ],
   "source": [
    "s = np.std(y)\n",
    "print (s)"
   ]
  },
  {
   "cell_type": "code",
   "execution_count": 0,
   "metadata": {
    "colab": {
     "base_uri": "https://localhost:8080/",
     "height": 34
    },
    "colab_type": "code",
    "executionInfo": {
     "elapsed": 1001,
     "status": "ok",
     "timestamp": 1566018001804,
     "user": {
      "displayName": "Bhavesh Bhatt",
      "photoUrl": "https://lh5.googleusercontent.com/-Dxy3HXzth_c/AAAAAAAAAAI/AAAAAAAAHvk/4kcnA5cyAC4/s64/photo.jpg",
      "userId": "01561702845917398436"
     },
     "user_tz": -330
    },
    "id": "its7c7-G7AuM",
    "outputId": "7777ceff-a7c0-4879-ff53-c65fca5e90ef"
   },
   "outputs": [
    {
     "name": "stdout",
     "output_type": "stream",
     "text": [
      "2.6392203839283317\n"
     ]
    }
   ],
   "source": [
    "Gcalculated = max_of_deviations/ s\n",
    "print (Gcalculated)"
   ]
  },
  {
   "cell_type": "markdown",
   "metadata": {
    "colab_type": "text",
    "id": "G2SqVRvV8rRv"
   },
   "source": [
    "\\begin{equation}\n",
    "G_{critical}=\\frac{(N-1)}{\\sqrt{N}} \\sqrt{\\frac{\\left(t_{\\alpha /(2 N), N-2}\\right)^{2}}{N-2+\\left(t_{\\alpha /(2 N), N-2}\\right)^{2}}}\n",
    "\\end{equation}"
   ]
  },
  {
   "cell_type": "code",
   "execution_count": 0,
   "metadata": {
    "colab": {},
    "colab_type": "code",
    "id": "Qw8gI74v7AR0"
   },
   "outputs": [],
   "source": [
    "def calculate_critical_value(size, alpha):\n",
    "    \"\"\"Calculate the critical value with the formula given for example in\n",
    "    https://en.wikipedia.org/wiki/Grubbs%27_test_for_outliers#Definition\n",
    "    Args:\n",
    "        ts (list or np.array): The timeseries to compute the critical value.\n",
    "        alpha (float): The significance level.\n",
    "    Returns:\n",
    "        float: The critical value for this test.\n",
    "    \"\"\"\n",
    "    t_dist = stats.t.ppf(1 - alpha / (2 * size), size - 2)\n",
    "    numerator = (size - 1) * np.sqrt(np.square(t_dist))\n",
    "    denominator = np.sqrt(size) * np.sqrt(size - 2 + np.square(t_dist))\n",
    "    critical_value = numerator / denominator\n",
    "    print(\"Grubbs Critical Value: {}\".format(critical_value))\n",
    "    return critical_value"
   ]
  },
  {
   "cell_type": "code",
   "execution_count": 0,
   "metadata": {
    "colab": {
     "base_uri": "https://localhost:8080/",
     "height": 34
    },
    "colab_type": "code",
    "executionInfo": {
     "elapsed": 793,
     "status": "ok",
     "timestamp": 1566018465573,
     "user": {
      "displayName": "Bhavesh Bhatt",
      "photoUrl": "https://lh5.googleusercontent.com/-Dxy3HXzth_c/AAAAAAAAAAI/AAAAAAAAHvk/4kcnA5cyAC4/s64/photo.jpg",
      "userId": "01561702845917398436"
     },
     "user_tz": -330
    },
    "id": "pqyy4bTg8nMN",
    "outputId": "d7d0f2ee-c57d-45e4-a330-a1d50aaee319"
   },
   "outputs": [
    {
     "name": "stdout",
     "output_type": "stream",
     "text": [
      "Grubbs Critical Value: 2.1266450871956257\n"
     ]
    }
   ],
   "source": [
    "Gcritical = calculate_critical_value(len(y), 0.05)"
   ]
  },
  {
   "cell_type": "markdown",
   "metadata": {
    "colab_type": "text",
    "id": "f0aMfOcb-b8-"
   },
   "source": [
    "<center> <H1> Let's revisit the Hypothesis Test </H1> </center>"
   ]
  },
  {
   "cell_type": "markdown",
   "metadata": {
    "colab_type": "text",
    "id": "cyuPBPHt9iBN"
   },
   "source": [
    "\\begin{equation}\n",
    "\\begin{array}{l}{\\mathrm{H}_{0} : \\text { there are no outliers in the data }} \\\\ {\\mathrm{H}_{\\mathrm{a}} : \\text { the maximum value is an outlier }} \\\\ {\\text { Test statistic: } G=2.63} \\\\ {\\text { significance level: } \\alpha=0.05} \\\\ {\\text { Critical value for Grubb's Test: } 2.12} \\\\ {\\text {} \\text { } }\\end{array}\n",
    "\\end{equation}"
   ]
  },
  {
   "cell_type": "code",
   "execution_count": 0,
   "metadata": {
    "colab": {},
    "colab_type": "code",
    "id": "nOo5cNAH-FBy"
   },
   "outputs": [],
   "source": []
  }
 ],
 "metadata": {
  "colab": {
   "name": "Grubbs_Test.ipynb",
   "provenance": [],
   "version": "0.3.2"
  },
  "kernelspec": {
   "display_name": "Python 3",
   "language": "python",
   "name": "python3"
  },
  "language_info": {
   "codemirror_mode": {
    "name": "ipython",
    "version": 3
   },
   "file_extension": ".py",
   "mimetype": "text/x-python",
   "name": "python",
   "nbconvert_exporter": "python",
   "pygments_lexer": "ipython3",
   "version": "3.8.3"
  }
 },
 "nbformat": 4,
 "nbformat_minor": 1
}
